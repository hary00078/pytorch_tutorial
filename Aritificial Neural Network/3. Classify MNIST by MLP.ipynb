{
 "cells": [
  {
   "cell_type": "code",
   "execution_count": 1,
   "metadata": {},
   "outputs": [],
   "source": [
    "import torch\n",
    "import torch.nn as nn\n",
    "import torch.nn.functional as F\n",
    "import torch.optim as optim\n",
    "from torch.utils.data import DataLoader\n",
    "import torchvision.datasets as dsets\n",
    "import torchvision.transforms as transforms\n",
    "import matplotlib.pyplot as plt\n",
    "import random"
   ]
  },
  {
   "cell_type": "code",
   "execution_count": 2,
   "metadata": {},
   "outputs": [],
   "source": [
    "mnist_train = dsets.MNIST(root = \"MNIST_data/\", train = True, transform=transforms.ToTensor(), download = True)\n",
    "mnist_test = dsets.MNIST(root = 'MNIST_data/', train = False, transform = transforms.ToTensor(), download = True)"
   ]
  },
  {
   "cell_type": "code",
   "execution_count": 3,
   "metadata": {},
   "outputs": [],
   "source": [
    "dataloader = DataLoader(dataset = mnist_train, batch_size = 100, shuffle = True, drop_last= True)"
   ]
  },
  {
   "cell_type": "code",
   "execution_count": 4,
   "metadata": {},
   "outputs": [],
   "source": [
    "model = nn.Sequential(\n",
    "    nn.Linear(784, 392, bias = True),\n",
    "    nn.ReLU(),\n",
    "    nn.Linear(392, 196, bias = True),\n",
    "    nn.ReLU(),\n",
    "    nn.Linear(196, 10, bias = True)\n",
    ")"
   ]
  },
  {
   "cell_type": "code",
   "execution_count": 5,
   "metadata": {},
   "outputs": [],
   "source": [
    "optimizer = optim.Adam(model.parameters())\n",
    "loss_fn = nn.CrossEntropyLoss()\n",
    "nb_epoch = 100\n",
    "losses = []"
   ]
  },
  {
   "cell_type": "code",
   "execution_count": 6,
   "metadata": {},
   "outputs": [
    {
     "name": "stdout",
     "output_type": "stream",
     "text": [
      "epoch :  0 cost :  tensor(0.2839, grad_fn=<AddBackward0>)\n",
      "epoch :  10 cost :  tensor(0.0104, grad_fn=<AddBackward0>)\n",
      "epoch :  20 cost :  tensor(0.0049, grad_fn=<AddBackward0>)\n",
      "epoch :  30 cost :  tensor(0.0047, grad_fn=<AddBackward0>)\n",
      "epoch :  40 cost :  tensor(0.0038, grad_fn=<AddBackward0>)\n",
      "epoch :  50 cost :  tensor(0.0029, grad_fn=<AddBackward0>)\n",
      "epoch :  60 cost :  tensor(0.0007, grad_fn=<AddBackward0>)\n",
      "epoch :  70 cost :  tensor(3.5255e-06, grad_fn=<AddBackward0>)\n",
      "epoch :  80 cost :  tensor(6.0929e-08, grad_fn=<AddBackward0>)\n",
      "epoch :  90 cost :  tensor(4.9512e-09, grad_fn=<AddBackward0>)\n",
      "epoch :  100 cost :  tensor(4.1525e-10, grad_fn=<AddBackward0>)\n"
     ]
    }
   ],
   "source": [
    "for epoch in range(nb_epoch + 1):\n",
    "    avg_cost = 0\n",
    "    for idx, samples in enumerate(dataloader):\n",
    "        X, Y = samples\n",
    "        X = X.view(-1, 28*28)\n",
    "        hypothesis = model(X)\n",
    "        loss = loss_fn(hypothesis, Y)\n",
    "        avg_cost += loss /len(dataloader) \n",
    "        optimizer.zero_grad()\n",
    "        loss.backward()\n",
    "        optimizer.step()\n",
    "    losses.append(avg_cost)\n",
    "    if epoch % 10 == 0:\n",
    "        print(\"epoch : \", epoch, \"cost : \", avg_cost)"
   ]
  },
  {
   "cell_type": "code",
   "execution_count": 8,
   "metadata": {},
   "outputs": [
    {
     "data": {
      "text/plain": [
       "[<matplotlib.lines.Line2D at 0x1de2a2f20f0>]"
      ]
     },
     "execution_count": 8,
     "metadata": {},
     "output_type": "execute_result"
    },
    {
     "data": {
      "image/png": "[encoded data removed]",
      "text/plain": [
       "<Figure size 432x288 with 1 Axes>"
      ]
     },
     "metadata": {
      "needs_background": "light"
     },
     "output_type": "display_data"
    }
   ],
   "source": [
    "plt.plot(losses)"
   ]
  },
  {
   "cell_type": "code",
   "execution_count": 19,
   "metadata": {},
   "outputs": [],
   "source": [
    "X_test = mnist_test.data.view(-1, 28*28).float()\n",
    "Y_test = mnist_test.targets"
   ]
  },
  {
   "cell_type": "code",
   "execution_count": 21,
   "metadata": {},
   "outputs": [
    {
     "name": "stdout",
     "output_type": "stream",
     "text": [
      "tensor(0.9853)\n"
     ]
    }
   ],
   "source": [
    "prediction = model(X_test)\n",
    "correct_prediction = torch.argmax(prediction, 1) == Y_test\n",
    "accuarcy = correct_prediction.float().mean()\n",
    "print(accuarcy)"
   ]
  },
  {
   "cell_type": "code",
   "execution_count": null,
   "metadata": {},
   "outputs": [],
   "source": []
  }
 ],
 "metadata": {
  "kernelspec": {
   "display_name": "Python 3",
   "language": "python",
   "name": "python3"
  },
  "language_info": {
   "codemirror_mode": {
    "name": "ipython",
    "version": 3
   },
   "file_extension": ".py",
   "mimetype": "text/x-python",
   "name": "python",
   "nbconvert_exporter": "python",
   "pygments_lexer": "ipython3",
   "version": "3.7.3"
  }
 },
 "nbformat": 4,
 "nbformat_minor": 2
}
