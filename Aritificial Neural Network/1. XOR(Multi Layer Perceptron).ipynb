{
 "cells": [
  {
   "cell_type": "code",
   "execution_count": 66,
   "metadata": {},
   "outputs": [],
   "source": [
    "import torch\n",
    "import torch.nn as nn\n",
    "import torch.nn.functional as F\n",
    "import torch.optim as optim"
   ]
  },
  {
   "cell_type": "code",
   "execution_count": 67,
   "metadata": {},
   "outputs": [],
   "source": [
    "X = torch.FloatTensor([[0, 0], [0, 1], [1, 0], [1, 1]])\n",
    "Y = torch.FloatTensor([[0], [1], [1], [0]])"
   ]
  },
  {
   "cell_type": "code",
   "execution_count": 68,
   "metadata": {},
   "outputs": [],
   "source": [
    "model = nn.Sequential(\n",
    "          nn.Linear(2, 10, bias=True), # input_layer = 2, hidden_layer1 = 10\n",
    "          nn.Sigmoid(),\n",
    "          nn.Linear(10, 10, bias=True), # hidden_layer1 = 10, hidden_layer2 = 10\n",
    "          nn.Sigmoid(),\n",
    "          nn.Linear(10, 10, bias=True), # hidden_layer2 = 10, hidden_layer3 = 10\n",
    "          nn.Sigmoid(),\n",
    "          nn.Linear(10, 1, bias=True), # hidden_layer3 = 10, output_layer = 1\n",
    "          nn.Sigmoid()\n",
    "          )"
   ]
  },
  {
   "cell_type": "code",
   "execution_count": 69,
   "metadata": {},
   "outputs": [],
   "source": [
    "optimizer = optim.SGD(model.parameters(), lr = 1)\n",
    "nb_epochs = 10000"
   ]
  },
  {
   "cell_type": "code",
   "execution_count": 70,
   "metadata": {},
   "outputs": [
    {
     "name": "stdout",
     "output_type": "stream",
     "text": [
      "epoch :  0 cost :  tensor(0.7168, grad_fn=<BinaryCrossEntropyBackward>)\n",
      "epoch :  100 cost :  tensor(0.6931, grad_fn=<BinaryCrossEntropyBackward>)\n",
      "epoch :  200 cost :  tensor(0.6931, grad_fn=<BinaryCrossEntropyBackward>)\n",
      "epoch :  300 cost :  tensor(0.6931, grad_fn=<BinaryCrossEntropyBackward>)\n",
      "epoch :  400 cost :  tensor(0.6931, grad_fn=<BinaryCrossEntropyBackward>)\n",
      "epoch :  500 cost :  tensor(0.6931, grad_fn=<BinaryCrossEntropyBackward>)\n",
      "epoch :  600 cost :  tensor(0.6931, grad_fn=<BinaryCrossEntropyBackward>)\n",
      "epoch :  700 cost :  tensor(0.6931, grad_fn=<BinaryCrossEntropyBackward>)\n",
      "epoch :  800 cost :  tensor(0.6931, grad_fn=<BinaryCrossEntropyBackward>)\n",
      "epoch :  900 cost :  tensor(0.6931, grad_fn=<BinaryCrossEntropyBackward>)\n",
      "epoch :  1000 cost :  tensor(0.6931, grad_fn=<BinaryCrossEntropyBackward>)\n",
      "epoch :  1100 cost :  tensor(0.6931, grad_fn=<BinaryCrossEntropyBackward>)\n",
      "epoch :  1200 cost :  tensor(0.6931, grad_fn=<BinaryCrossEntropyBackward>)\n",
      "epoch :  1300 cost :  tensor(0.6931, grad_fn=<BinaryCrossEntropyBackward>)\n",
      "epoch :  1400 cost :  tensor(0.6931, grad_fn=<BinaryCrossEntropyBackward>)\n",
      "epoch :  1500 cost :  tensor(0.6931, grad_fn=<BinaryCrossEntropyBackward>)\n",
      "epoch :  1600 cost :  tensor(0.6930, grad_fn=<BinaryCrossEntropyBackward>)\n",
      "epoch :  1700 cost :  tensor(0.6930, grad_fn=<BinaryCrossEntropyBackward>)\n",
      "epoch :  1800 cost :  tensor(0.6930, grad_fn=<BinaryCrossEntropyBackward>)\n",
      "epoch :  1900 cost :  tensor(0.6930, grad_fn=<BinaryCrossEntropyBackward>)\n",
      "epoch :  2000 cost :  tensor(0.6930, grad_fn=<BinaryCrossEntropyBackward>)\n",
      "epoch :  2100 cost :  tensor(0.6930, grad_fn=<BinaryCrossEntropyBackward>)\n",
      "epoch :  2200 cost :  tensor(0.6929, grad_fn=<BinaryCrossEntropyBackward>)\n",
      "epoch :  2300 cost :  tensor(0.6929, grad_fn=<BinaryCrossEntropyBackward>)\n",
      "epoch :  2400 cost :  tensor(0.6928, grad_fn=<BinaryCrossEntropyBackward>)\n",
      "epoch :  2500 cost :  tensor(0.6928, grad_fn=<BinaryCrossEntropyBackward>)\n",
      "epoch :  2600 cost :  tensor(0.6927, grad_fn=<BinaryCrossEntropyBackward>)\n",
      "epoch :  2700 cost :  tensor(0.6926, grad_fn=<BinaryCrossEntropyBackward>)\n",
      "epoch :  2800 cost :  tensor(0.6924, grad_fn=<BinaryCrossEntropyBackward>)\n",
      "epoch :  2900 cost :  tensor(0.6922, grad_fn=<BinaryCrossEntropyBackward>)\n",
      "epoch :  3000 cost :  tensor(0.6918, grad_fn=<BinaryCrossEntropyBackward>)\n",
      "epoch :  3100 cost :  tensor(0.6912, grad_fn=<BinaryCrossEntropyBackward>)\n",
      "epoch :  3200 cost :  tensor(0.6898, grad_fn=<BinaryCrossEntropyBackward>)\n",
      "epoch :  3300 cost :  tensor(0.6863, grad_fn=<BinaryCrossEntropyBackward>)\n",
      "epoch :  3400 cost :  tensor(0.6720, grad_fn=<BinaryCrossEntropyBackward>)\n",
      "epoch :  3500 cost :  tensor(0.5283, grad_fn=<BinaryCrossEntropyBackward>)\n",
      "epoch :  3600 cost :  tensor(0.0393, grad_fn=<BinaryCrossEntropyBackward>)\n",
      "epoch :  3700 cost :  tensor(0.0087, grad_fn=<BinaryCrossEntropyBackward>)\n",
      "epoch :  3800 cost :  tensor(0.0044, grad_fn=<BinaryCrossEntropyBackward>)\n",
      "epoch :  3900 cost :  tensor(0.0029, grad_fn=<BinaryCrossEntropyBackward>)\n",
      "epoch :  4000 cost :  tensor(0.0021, grad_fn=<BinaryCrossEntropyBackward>)\n",
      "epoch :  4100 cost :  tensor(0.0017, grad_fn=<BinaryCrossEntropyBackward>)\n",
      "epoch :  4200 cost :  tensor(0.0014, grad_fn=<BinaryCrossEntropyBackward>)\n",
      "epoch :  4300 cost :  tensor(0.0011, grad_fn=<BinaryCrossEntropyBackward>)\n",
      "epoch :  4400 cost :  tensor(0.0010, grad_fn=<BinaryCrossEntropyBackward>)\n",
      "epoch :  4500 cost :  tensor(0.0009, grad_fn=<BinaryCrossEntropyBackward>)\n",
      "epoch :  4600 cost :  tensor(0.0008, grad_fn=<BinaryCrossEntropyBackward>)\n",
      "epoch :  4700 cost :  tensor(0.0007, grad_fn=<BinaryCrossEntropyBackward>)\n",
      "epoch :  4800 cost :  tensor(0.0006, grad_fn=<BinaryCrossEntropyBackward>)\n",
      "epoch :  4900 cost :  tensor(0.0006, grad_fn=<BinaryCrossEntropyBackward>)\n",
      "epoch :  5000 cost :  tensor(0.0005, grad_fn=<BinaryCrossEntropyBackward>)\n",
      "epoch :  5100 cost :  tensor(0.0005, grad_fn=<BinaryCrossEntropyBackward>)\n",
      "epoch :  5200 cost :  tensor(0.0005, grad_fn=<BinaryCrossEntropyBackward>)\n",
      "epoch :  5300 cost :  tensor(0.0004, grad_fn=<BinaryCrossEntropyBackward>)\n",
      "epoch :  5400 cost :  tensor(0.0004, grad_fn=<BinaryCrossEntropyBackward>)\n",
      "epoch :  5500 cost :  tensor(0.0004, grad_fn=<BinaryCrossEntropyBackward>)\n",
      "epoch :  5600 cost :  tensor(0.0004, grad_fn=<BinaryCrossEntropyBackward>)\n",
      "epoch :  5700 cost :  tensor(0.0003, grad_fn=<BinaryCrossEntropyBackward>)\n",
      "epoch :  5800 cost :  tensor(0.0003, grad_fn=<BinaryCrossEntropyBackward>)\n",
      "epoch :  5900 cost :  tensor(0.0003, grad_fn=<BinaryCrossEntropyBackward>)\n",
      "epoch :  6000 cost :  tensor(0.0003, grad_fn=<BinaryCrossEntropyBackward>)\n",
      "epoch :  6100 cost :  tensor(0.0003, grad_fn=<BinaryCrossEntropyBackward>)\n",
      "epoch :  6200 cost :  tensor(0.0003, grad_fn=<BinaryCrossEntropyBackward>)\n",
      "epoch :  6300 cost :  tensor(0.0003, grad_fn=<BinaryCrossEntropyBackward>)\n",
      "epoch :  6400 cost :  tensor(0.0002, grad_fn=<BinaryCrossEntropyBackward>)\n",
      "epoch :  6500 cost :  tensor(0.0002, grad_fn=<BinaryCrossEntropyBackward>)\n",
      "epoch :  6600 cost :  tensor(0.0002, grad_fn=<BinaryCrossEntropyBackward>)\n",
      "epoch :  6700 cost :  tensor(0.0002, grad_fn=<BinaryCrossEntropyBackward>)\n",
      "epoch :  6800 cost :  tensor(0.0002, grad_fn=<BinaryCrossEntropyBackward>)\n",
      "epoch :  6900 cost :  tensor(0.0002, grad_fn=<BinaryCrossEntropyBackward>)\n",
      "epoch :  7000 cost :  tensor(0.0002, grad_fn=<BinaryCrossEntropyBackward>)\n",
      "epoch :  7100 cost :  tensor(0.0002, grad_fn=<BinaryCrossEntropyBackward>)\n",
      "epoch :  7200 cost :  tensor(0.0002, grad_fn=<BinaryCrossEntropyBackward>)\n",
      "epoch :  7300 cost :  tensor(0.0002, grad_fn=<BinaryCrossEntropyBackward>)\n",
      "epoch :  7400 cost :  tensor(0.0002, grad_fn=<BinaryCrossEntropyBackward>)\n",
      "epoch :  7500 cost :  tensor(0.0002, grad_fn=<BinaryCrossEntropyBackward>)\n",
      "epoch :  7600 cost :  tensor(0.0002, grad_fn=<BinaryCrossEntropyBackward>)\n",
      "epoch :  7700 cost :  tensor(0.0002, grad_fn=<BinaryCrossEntropyBackward>)\n",
      "epoch :  7800 cost :  tensor(0.0002, grad_fn=<BinaryCrossEntropyBackward>)\n",
      "epoch :  7900 cost :  tensor(0.0002, grad_fn=<BinaryCrossEntropyBackward>)\n",
      "epoch :  8000 cost :  tensor(0.0001, grad_fn=<BinaryCrossEntropyBackward>)\n",
      "epoch :  8100 cost :  tensor(0.0001, grad_fn=<BinaryCrossEntropyBackward>)\n",
      "epoch :  8200 cost :  tensor(0.0001, grad_fn=<BinaryCrossEntropyBackward>)\n",
      "epoch :  8300 cost :  tensor(0.0001, grad_fn=<BinaryCrossEntropyBackward>)\n",
      "epoch :  8400 cost :  tensor(0.0001, grad_fn=<BinaryCrossEntropyBackward>)\n",
      "epoch :  8500 cost :  tensor(0.0001, grad_fn=<BinaryCrossEntropyBackward>)\n",
      "epoch :  8600 cost :  tensor(0.0001, grad_fn=<BinaryCrossEntropyBackward>)\n",
      "epoch :  8700 cost :  tensor(0.0001, grad_fn=<BinaryCrossEntropyBackward>)\n",
      "epoch :  8800 cost :  tensor(0.0001, grad_fn=<BinaryCrossEntropyBackward>)\n",
      "epoch :  8900 cost :  tensor(0.0001, grad_fn=<BinaryCrossEntropyBackward>)\n",
      "epoch :  9000 cost :  tensor(0.0001, grad_fn=<BinaryCrossEntropyBackward>)\n",
      "epoch :  9100 cost :  tensor(0.0001, grad_fn=<BinaryCrossEntropyBackward>)\n",
      "epoch :  9200 cost :  tensor(0.0001, grad_fn=<BinaryCrossEntropyBackward>)\n",
      "epoch :  9300 cost :  tensor(0.0001, grad_fn=<BinaryCrossEntropyBackward>)\n",
      "epoch :  9400 cost :  tensor(0.0001, grad_fn=<BinaryCrossEntropyBackward>)\n",
      "epoch :  9500 cost :  tensor(0.0001, grad_fn=<BinaryCrossEntropyBackward>)\n",
      "epoch :  9600 cost :  tensor(0.0001, grad_fn=<BinaryCrossEntropyBackward>)\n",
      "epoch :  9700 cost :  tensor(0.0001, grad_fn=<BinaryCrossEntropyBackward>)\n",
      "epoch :  9800 cost :  tensor(0.0001, grad_fn=<BinaryCrossEntropyBackward>)\n",
      "epoch :  9900 cost :  tensor(0.0001, grad_fn=<BinaryCrossEntropyBackward>)\n",
      "epoch :  10000 cost :  tensor(9.8681e-05, grad_fn=<BinaryCrossEntropyBackward>)\n"
     ]
    }
   ],
   "source": [
    "for epoch in range(nb_epochs + 1):\n",
    "    optimizer.zero_grad()\n",
    "    hypothesis = model(X)\n",
    "    cost = F.binary_cross_entropy(hypothesis, Y)\n",
    "    cost.backward()\n",
    "    optimizer.step()\n",
    "    \n",
    "    if epoch % 100 == 0:\n",
    "        print(\"epoch : \", epoch, \"cost : \", cost)"
   ]
  },
  {
   "cell_type": "code",
   "execution_count": 9,
   "metadata": {},
   "outputs": [
    {
     "name": "stdout",
     "output_type": "stream",
     "text": [
      "tensor(0.6931, grad_fn=<BinaryCrossEntropyBackward>)\n"
     ]
    }
   ],
   "source": [
    "print(cost)"
   ]
  },
  {
   "cell_type": "code",
   "execution_count": null,
   "metadata": {},
   "outputs": [],
   "source": []
  }
 ],
 "metadata": {
  "kernelspec": {
   "display_name": "Python 3",
   "language": "python",
   "name": "python3"
  },
  "language_info": {
   "codemirror_mode": {
    "name": "ipython",
    "version": 3
   },
   "file_extension": ".py",
   "mimetype": "text/x-python",
   "name": "python",
   "nbconvert_exporter": "python",
   "pygments_lexer": "ipython3",
   "version": "3.7.3"
  }
 },
 "nbformat": 4,
 "nbformat_minor": 2
}
