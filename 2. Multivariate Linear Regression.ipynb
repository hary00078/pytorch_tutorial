{
 "cells": [
  {
   "cell_type": "markdown",
   "metadata": {},
   "source": [
    "# Multivariate Liner Regression(traditional method)"
   ]
  },
  {
   "cell_type": "code",
   "execution_count": 19,
   "metadata": {},
   "outputs": [],
   "source": [
    "import torch"
   ]
  },
  {
   "cell_type": "code",
   "execution_count": 20,
   "metadata": {},
   "outputs": [],
   "source": [
    "# data set생성\n",
    "x_train = torch.FloatTensor([[73, 80, 75],[93, 88, 93],[89, 91, 80], [96, 98, 100], [73, 66, 70]])\n",
    "y_train = torch.FloatTensor([[152], [185], [180], [196], [142]])"
   ]
  },
  {
   "cell_type": "code",
   "execution_count": 31,
   "metadata": {},
   "outputs": [],
   "source": [
    "w = torch.zeros((3, 1), requires_grad = True)\n",
    "b = torch.zeros(1, requires_grad = True)"
   ]
  },
  {
   "cell_type": "code",
   "execution_count": 32,
   "metadata": {},
   "outputs": [],
   "source": [
    "optimizer = torch.optim.SGD([w, b], lr = 0.00001)\n",
    "nb_epoch = 1000"
   ]
  },
  {
   "cell_type": "code",
   "execution_count": 37,
   "metadata": {
    "scrolled": true
   },
   "outputs": [
    {
     "name": "stdout",
     "output_type": "stream",
     "text": [
      "epoch :  0cost :  tensor(3.9386, grad_fn=<MeanBackward0>)\n",
      "epoch :  100cost :  tensor(3.7808, grad_fn=<MeanBackward0>)\n",
      "epoch :  200cost :  tensor(3.6301, grad_fn=<MeanBackward0>)\n",
      "epoch :  300cost :  tensor(3.4861, grad_fn=<MeanBackward0>)\n",
      "epoch :  400cost :  tensor(3.3486, grad_fn=<MeanBackward0>)\n",
      "epoch :  500cost :  tensor(3.2172, grad_fn=<MeanBackward0>)\n",
      "epoch :  600cost :  tensor(3.0915, grad_fn=<MeanBackward0>)\n",
      "epoch :  700cost :  tensor(2.9714, grad_fn=<MeanBackward0>)\n",
      "epoch :  800cost :  tensor(2.8564, grad_fn=<MeanBackward0>)\n",
      "epoch :  900cost :  tensor(2.7465, grad_fn=<MeanBackward0>)\n",
      "epoch :  1000cost :  tensor(2.6413, grad_fn=<MeanBackward0>)\n"
     ]
    }
   ],
   "source": [
    "for epoch in range(nb_epoch + 1):\n",
    "    hypothesis = torch.matmul(x_train, w) + b\n",
    "    cost = torch.mean((hypothesis - y_train)**2)\n",
    "    optimizer.zero_grad()\n",
    "    cost.backward()\n",
    "    optimizer.step()\n",
    "    if epoch % 100 == 0:\n",
    "        print(\"epoch : \", epoch, end = \"\")\n",
    "        print(\"cost : \", cost)        "
   ]
  },
  {
   "cell_type": "code",
   "execution_count": 38,
   "metadata": {},
   "outputs": [
    {
     "name": "stdout",
     "output_type": "stream",
     "text": [
      "tensor([[153.7200],\n",
      "        [184.7362],\n",
      "        [177.3524],\n",
      "        [197.6775],\n",
      "        [141.4046]], grad_fn=<AddBackward0>)\n"
     ]
    }
   ],
   "source": [
    "print(hypothesis)"
   ]
  },
  {
   "cell_type": "markdown",
   "metadata": {},
   "source": [
    "\n",
    "\n",
    "# Multivariate Linear Regression(using nn.Module)"
   ]
  },
  {
   "cell_type": "code",
   "execution_count": 61,
   "metadata": {},
   "outputs": [],
   "source": [
    "import torch\n",
    "import torch.nn as nn\n",
    "import torch.optim as optim\n",
    "import torch.nn.functional as F"
   ]
  },
  {
   "cell_type": "code",
   "execution_count": 63,
   "metadata": {},
   "outputs": [],
   "source": [
    "x_train = torch.FloatTensor([[73, 80, 75],[93, 88, 93],[89, 91, 80], [96, 98, 100], [73, 66, 70]])\n",
    "y_train = torch.FloatTensor([[152], [185], [180], [196], [142]])"
   ]
  },
  {
   "cell_type": "code",
   "execution_count": 66,
   "metadata": {},
   "outputs": [],
   "source": [
    "model = nn.Linear(3, 1)\n",
    "optimizer = optim.SGD(model.parameters(), lr = 1e-5)"
   ]
  },
  {
   "cell_type": "code",
   "execution_count": 71,
   "metadata": {},
   "outputs": [
    {
     "name": "stdout",
     "output_type": "stream",
     "text": [
      "epoch :  0 cost :  tensor(0.2292, grad_fn=<MseLossBackward>)\n",
      "epoch :  1000 cost :  tensor(0.1963, grad_fn=<MseLossBackward>)\n",
      "epoch :  2000 cost :  tensor(0.1736, grad_fn=<MseLossBackward>)\n",
      "epoch :  3000 cost :  tensor(0.1579, grad_fn=<MseLossBackward>)\n",
      "epoch :  4000 cost :  tensor(0.1471, grad_fn=<MseLossBackward>)\n",
      "epoch :  5000 cost :  tensor(0.1396, grad_fn=<MseLossBackward>)\n",
      "epoch :  6000 cost :  tensor(0.1344, grad_fn=<MseLossBackward>)\n",
      "epoch :  7000 cost :  tensor(0.1308, grad_fn=<MseLossBackward>)\n",
      "epoch :  8000 cost :  tensor(0.1283, grad_fn=<MseLossBackward>)\n",
      "epoch :  9000 cost :  tensor(0.1265, grad_fn=<MseLossBackward>)\n",
      "epoch :  10000 cost :  tensor(0.1253, grad_fn=<MseLossBackward>)\n"
     ]
    }
   ],
   "source": [
    "nb_epochs = 10000\n",
    "for epoch in range(nb_epochs + 1):\n",
    "    prediction = model(x_train)\n",
    "    cost = F.mse_loss(prediction, y_train)    \n",
    "    optimizer.zero_grad()\n",
    "    cost.backward()\n",
    "    optimizer.step()\n",
    "    if epoch % 1000 == 0:\n",
    "        print(\"epoch : \", epoch, \"cost : \", cost)"
   ]
  },
  {
   "cell_type": "code",
   "execution_count": 74,
   "metadata": {},
   "outputs": [
    {
     "name": "stdout",
     "output_type": "stream",
     "text": [
      "tensor([[152.4316],\n",
      "        [184.6210],\n",
      "        [179.7697],\n",
      "        [195.8817],\n",
      "        [142.4790]], grad_fn=<AddmmBackward>)\n"
     ]
    }
   ],
   "source": [
    "print(prediction)"
   ]
  },
  {
   "cell_type": "code",
   "execution_count": 75,
   "metadata": {},
   "outputs": [
    {
     "name": "stdout",
     "output_type": "stream",
     "text": [
      "tensor([[152.],\n",
      "        [185.],\n",
      "        [180.],\n",
      "        [196.],\n",
      "        [142.]])\n"
     ]
    }
   ],
   "source": [
    "print(y_train)"
   ]
  },
  {
   "cell_type": "markdown",
   "metadata": {},
   "source": [
    "# Multivariate Linear Regression(using Class)"
   ]
  },
  {
   "cell_type": "code",
   "execution_count": 76,
   "metadata": {},
   "outputs": [],
   "source": [
    "import torch\n",
    "import torch.nn as nn\n",
    "import torch.optim as optim\n",
    "import torch.nn.functional as F"
   ]
  },
  {
   "cell_type": "code",
   "execution_count": 77,
   "metadata": {},
   "outputs": [],
   "source": [
    "class MultivariateLinearRegression(nn.Module):\n",
    "    def __init__(self):\n",
    "        super().__init__()\n",
    "        self.linear = nn.Linear(3, 1)\n",
    "    \n",
    "    def forward(self, x):\n",
    "        return self.linear(x)"
   ]
  },
  {
   "cell_type": "code",
   "execution_count": 78,
   "metadata": {},
   "outputs": [],
   "source": [
    "x_train = torch.FloatTensor([[73, 80, 75],[93, 88, 93],[89, 91, 80], [96, 98, 100], [73, 66, 70]])\n",
    "y_train = torch.FloatTensor([[152], [185], [180], [196], [142]])"
   ]
  },
  {
   "cell_type": "code",
   "execution_count": 84,
   "metadata": {},
   "outputs": [],
   "source": [
    "model = MultivariateLinearRegression()\n",
    "nb_epoches = 10000\n",
    "optimizer = optim.SGD(model.parameters(), lr = 1e-5)"
   ]
  },
  {
   "cell_type": "code",
   "execution_count": 85,
   "metadata": {},
   "outputs": [
    {
     "name": "stdout",
     "output_type": "stream",
     "text": [
      "epoch :  0 cost :  tensor(67629.8281, grad_fn=<MseLossBackward>)\n",
      "epoch :  1000 cost :  tensor(5.9577, grad_fn=<MseLossBackward>)\n",
      "epoch :  2000 cost :  tensor(4.0263, grad_fn=<MseLossBackward>)\n",
      "epoch :  3000 cost :  tensor(2.7619, grad_fn=<MseLossBackward>)\n",
      "epoch :  4000 cost :  tensor(1.9210, grad_fn=<MseLossBackward>)\n",
      "epoch :  5000 cost :  tensor(1.3554, grad_fn=<MseLossBackward>)\n",
      "epoch :  6000 cost :  tensor(0.9717, grad_fn=<MseLossBackward>)\n",
      "epoch :  7000 cost :  tensor(0.7099, grad_fn=<MseLossBackward>)\n",
      "epoch :  8000 cost :  tensor(0.5305, grad_fn=<MseLossBackward>)\n",
      "epoch :  9000 cost :  tensor(0.4073, grad_fn=<MseLossBackward>)\n",
      "epoch :  10000 cost :  tensor(0.3225, grad_fn=<MseLossBackward>)\n"
     ]
    }
   ],
   "source": [
    "for epoch in range(nb_epoches + 1):\n",
    "    prediction = model(x_train)\n",
    "    cost = F.mse_loss(prediction, y_train)\n",
    "    optimizer.zero_grad()\n",
    "    cost.backward()\n",
    "    optimizer.step()\n",
    "    if epoch % 1000 == 0: \n",
    "        print(\"epoch : \", epoch, \"cost : \", cost)"
   ]
  },
  {
   "cell_type": "code",
   "execution_count": 86,
   "metadata": {},
   "outputs": [
    {
     "name": "stdout",
     "output_type": "stream",
     "text": [
      "tensor([[152.9227],\n",
      "        [184.4800],\n",
      "        [179.3608],\n",
      "        [196.2732],\n",
      "        [142.0862]], grad_fn=<AddmmBackward>)\n"
     ]
    }
   ],
   "source": [
    "print(prediction)"
   ]
  },
  {
   "cell_type": "code",
   "execution_count": null,
   "metadata": {},
   "outputs": [],
   "source": []
  }
 ],
 "metadata": {
  "kernelspec": {
   "display_name": "Python 3",
   "language": "python",
   "name": "python3"
  },
  "language_info": {
   "codemirror_mode": {
    "name": "ipython",
    "version": 3
   },
   "file_extension": ".py",
   "mimetype": "text/x-python",
   "name": "python",
   "nbconvert_exporter": "python",
   "pygments_lexer": "ipython3",
   "version": "3.7.3"
  }
 },
 "nbformat": 4,
 "nbformat_minor": 2
}
