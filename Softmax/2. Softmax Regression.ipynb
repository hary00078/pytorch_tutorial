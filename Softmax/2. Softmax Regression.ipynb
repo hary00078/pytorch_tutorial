{
 "cells": [
  {
   "cell_type": "markdown",
   "metadata": {},
   "source": [
    "# 소프트맥스 회귀 구현하기(로우 -레벨)"
   ]
  },
  {
   "cell_type": "code",
   "execution_count": 25,
   "metadata": {},
   "outputs": [],
   "source": [
    "import torch\n",
    "import torch.nn as nn\n",
    "import torch.nn.functional as F\n",
    "import torch.optim as optim"
   ]
  },
  {
   "cell_type": "code",
   "execution_count": 26,
   "metadata": {},
   "outputs": [
    {
     "data": {
      "text/plain": [
       "<torch._C.Generator at 0x10e276dd0>"
      ]
     },
     "execution_count": 26,
     "metadata": {},
     "output_type": "execute_result"
    }
   ],
   "source": [
    "torch.manual_seed(1)"
   ]
  },
  {
   "cell_type": "code",
   "execution_count": 27,
   "metadata": {},
   "outputs": [],
   "source": [
    "x_train = [[1, 2, 1, 1],\n",
    "           [2, 1, 3, 2],\n",
    "           [3, 1, 3, 4],\n",
    "           [4, 1, 5, 5],\n",
    "           [1, 7, 5, 5],\n",
    "           [1, 2, 5, 6],\n",
    "           [1, 6, 6, 6],\n",
    "           [1, 7, 7, 7]]\n",
    "y_train = [2, 2, 2, 1, 1, 1, 0, 0]\n",
    "\n",
    "x_train = torch.FloatTensor(x_train)\n",
    "y_train = torch.LongTensor(y_train)"
   ]
  },
  {
   "cell_type": "code",
   "execution_count": 28,
   "metadata": {},
   "outputs": [
    {
     "data": {
      "text/plain": [
       "tensor([[0., 0., 1.],\n",
       "        [0., 0., 1.],\n",
       "        [0., 0., 1.],\n",
       "        [0., 1., 0.],\n",
       "        [0., 1., 0.],\n",
       "        [0., 1., 0.],\n",
       "        [1., 0., 0.],\n",
       "        [1., 0., 0.]])"
      ]
     },
     "execution_count": 28,
     "metadata": {},
     "output_type": "execute_result"
    }
   ],
   "source": [
    "y_one_hot = torch.zeros(8, 3)\n",
    "y_one_hot.scatter_(1, y_train.unsqueeze(1), 1)"
   ]
  },
  {
   "cell_type": "code",
   "execution_count": 33,
   "metadata": {},
   "outputs": [],
   "source": [
    "w = torch.zeros((4, 3), requires_grad = True)\n",
    "b = torch.zeros((1, 3), requires_grad = True)\n",
    "optimizer = optim.SGD([w, b], lr = 0.1)\n",
    "nb_epochs = 1000"
   ]
  },
  {
   "cell_type": "code",
   "execution_count": 34,
   "metadata": {},
   "outputs": [
    {
     "name": "stdout",
     "output_type": "stream",
     "text": [
      "epoch :   0 cost :  tensor(1.0986, grad_fn=<MeanBackward0>)\n",
      "epoch :   100 cost :  tensor(0.7042, grad_fn=<MeanBackward0>)\n",
      "epoch :   200 cost :  tensor(0.6230, grad_fn=<MeanBackward0>)\n",
      "epoch :   300 cost :  tensor(0.5657, grad_fn=<MeanBackward0>)\n",
      "epoch :   400 cost :  tensor(0.5153, grad_fn=<MeanBackward0>)\n",
      "epoch :   500 cost :  tensor(0.4677, grad_fn=<MeanBackward0>)\n",
      "epoch :   600 cost :  tensor(0.4213, grad_fn=<MeanBackward0>)\n",
      "epoch :   700 cost :  tensor(0.3754, grad_fn=<MeanBackward0>)\n",
      "epoch :   800 cost :  tensor(0.3298, grad_fn=<MeanBackward0>)\n",
      "epoch :   900 cost :  tensor(0.2851, grad_fn=<MeanBackward0>)\n",
      "epoch :   1000 cost :  tensor(0.2482, grad_fn=<MeanBackward0>)\n"
     ]
    }
   ],
   "source": [
    "for epoch in range(nb_epochs + 1):\n",
    "    prediction = F.softmax(torch.matmul(x_train, w) + b, dim = 1)\n",
    "    cost = (y_one_hot * -torch.log(prediction)).sum(dim = 1).mean()\n",
    "    optimizer.zero_grad()\n",
    "    cost.backward()\n",
    "    optimizer.step()\n",
    "    \n",
    "    if epoch % 100 == 0:\n",
    "        print(\"epoch :  \", epoch, \"cost : \", cost)"
   ]
  },
  {
   "cell_type": "markdown",
   "metadata": {},
   "source": [
    "# 소프트맥스 회귀 구현하기(하이-레벨)"
   ]
  },
  {
   "cell_type": "code",
   "execution_count": 36,
   "metadata": {},
   "outputs": [],
   "source": [
    "import torch\n",
    "import torch.nn as nn\n",
    "import torch.nn.functional as F\n",
    "import torch.optim as optim"
   ]
  },
  {
   "cell_type": "code",
   "execution_count": 37,
   "metadata": {},
   "outputs": [],
   "source": [
    "x_train = [[1, 2, 1, 1],\n",
    "           [2, 1, 3, 2],\n",
    "           [3, 1, 3, 4],\n",
    "           [4, 1, 5, 5],\n",
    "           [1, 7, 5, 5],\n",
    "           [1, 2, 5, 6],\n",
    "           [1, 6, 6, 6],\n",
    "           [1, 7, 7, 7]]\n",
    "y_train = [2, 2, 2, 1, 1, 1, 0, 0]\n",
    "x_train = torch.FloatTensor(x_train)\n",
    "y_train = torch.LongTensor(y_train)"
   ]
  },
  {
   "cell_type": "code",
   "execution_count": 38,
   "metadata": {},
   "outputs": [],
   "source": [
    "w = torch.zeros((4, 3), requires_grad = True)\n",
    "b = torch.zeros((1, 3), requires_grad = True)\n",
    "optimizer = optim.SGD([w, b], lr = 0.1)\n",
    "nb_epochs = 1000 "
   ]
  },
  {
   "cell_type": "code",
   "execution_count": 40,
   "metadata": {},
   "outputs": [
    {
     "name": "stdout",
     "output_type": "stream",
     "text": [
      "epoch :  0 cost :  tensor(1.0986, grad_fn=<NllLossBackward>)\n",
      "epoch :  100 cost :  tensor(0.7042, grad_fn=<NllLossBackward>)\n",
      "epoch :  200 cost :  tensor(0.6230, grad_fn=<NllLossBackward>)\n",
      "epoch :  300 cost :  tensor(0.5657, grad_fn=<NllLossBackward>)\n",
      "epoch :  400 cost :  tensor(0.5153, grad_fn=<NllLossBackward>)\n",
      "epoch :  500 cost :  tensor(0.4677, grad_fn=<NllLossBackward>)\n",
      "epoch :  600 cost :  tensor(0.4213, grad_fn=<NllLossBackward>)\n",
      "epoch :  700 cost :  tensor(0.3754, grad_fn=<NllLossBackward>)\n",
      "epoch :  800 cost :  tensor(0.3298, grad_fn=<NllLossBackward>)\n",
      "epoch :  900 cost :  tensor(0.2851, grad_fn=<NllLossBackward>)\n"
     ]
    }
   ],
   "source": [
    "for epoch in range(nb_epochs):\n",
    "    hypothesis = torch.matmul(x_train, w) + b\n",
    "    cost = F.cross_entropy(hypothesis, y_train)\n",
    "    optimizer.zero_grad()\n",
    "    cost.backward()\n",
    "    optimizer.step()\n",
    "    \n",
    "    if epoch % 100 == 0:\n",
    "        print(\"epoch : \", epoch, \"cost : \", cost)"
   ]
  },
  {
   "cell_type": "markdown",
   "metadata": {},
   "source": [
    "# 소프트맥스 회귀 nn.Module로 구현하기"
   ]
  },
  {
   "cell_type": "code",
   "execution_count": 41,
   "metadata": {},
   "outputs": [],
   "source": [
    "import torch\n",
    "import torch.nn as nn\n",
    "import torch.nn.functional as F\n",
    "import torch.optim as optim"
   ]
  },
  {
   "cell_type": "code",
   "execution_count": 42,
   "metadata": {},
   "outputs": [],
   "source": [
    "x_train = [[1, 2, 1, 1],\n",
    "           [2, 1, 3, 2],\n",
    "           [3, 1, 3, 4],\n",
    "           [4, 1, 5, 5],\n",
    "           [1, 7, 5, 5],\n",
    "           [1, 2, 5, 6],\n",
    "           [1, 6, 6, 6],\n",
    "           [1, 7, 7, 7]]\n",
    "y_train = [2, 2, 2, 1, 1, 1, 0, 0]\n",
    "x_train = torch.FloatTensor(x_train)\n",
    "y_train = torch.LongTensor(y_train)"
   ]
  },
  {
   "cell_type": "code",
   "execution_count": 43,
   "metadata": {},
   "outputs": [],
   "source": [
    "model = nn.Linear(4, 3)\n",
    "optimizer = optim.SGD(model.parameters(), lr = 0.1)\n",
    "nb_epochs = 1000"
   ]
  },
  {
   "cell_type": "code",
   "execution_count": 45,
   "metadata": {},
   "outputs": [
    {
     "name": "stdout",
     "output_type": "stream",
     "text": [
      "epoch :  0 cost :  tensor(1.6168, grad_fn=<NllLossBackward>)\n",
      "epoch :  100 cost :  tensor(0.6589, grad_fn=<NllLossBackward>)\n",
      "epoch :  200 cost :  tensor(0.5734, grad_fn=<NllLossBackward>)\n",
      "epoch :  300 cost :  tensor(0.5182, grad_fn=<NllLossBackward>)\n",
      "epoch :  400 cost :  tensor(0.4733, grad_fn=<NllLossBackward>)\n",
      "epoch :  500 cost :  tensor(0.4335, grad_fn=<NllLossBackward>)\n",
      "epoch :  600 cost :  tensor(0.3966, grad_fn=<NllLossBackward>)\n",
      "epoch :  700 cost :  tensor(0.3609, grad_fn=<NllLossBackward>)\n",
      "epoch :  800 cost :  tensor(0.3254, grad_fn=<NllLossBackward>)\n",
      "epoch :  900 cost :  tensor(0.2892, grad_fn=<NllLossBackward>)\n"
     ]
    }
   ],
   "source": [
    "for epoch in range(nb_epochs):\n",
    "    prediction = model(x_train)\n",
    "    cost = F.cross_entropy(prediction, y_train)\n",
    "    optimizer.zero_grad()\n",
    "    cost.backward()\n",
    "    optimizer.step()\n",
    "    \n",
    "    if epoch % 100 == 0:\n",
    "        print(\"epoch : \", epoch, \"cost : \", cost)"
   ]
  },
  {
   "cell_type": "markdown",
   "metadata": {},
   "source": [
    "# 소프트맥스 회귀 클래스로 구현하기"
   ]
  },
  {
   "cell_type": "code",
   "execution_count": 46,
   "metadata": {},
   "outputs": [],
   "source": [
    "import torch\n",
    "import torch.nn as nn\n",
    "import torch.nn.functional as F\n",
    "import torch.optim as optim"
   ]
  },
  {
   "cell_type": "code",
   "execution_count": 48,
   "metadata": {},
   "outputs": [],
   "source": [
    "class SoftmaxFlassifierModel(nn.Module):\n",
    "    def __init__(self):\n",
    "        super().__init__()\n",
    "        self.linear = nn.Linear(4, 3)\n",
    "    def forward(self, x):\n",
    "        return self.linear(x)"
   ]
  },
  {
   "cell_type": "code",
   "execution_count": 49,
   "metadata": {},
   "outputs": [],
   "source": [
    "x_train = [[1, 2, 1, 1],\n",
    "           [2, 1, 3, 2],\n",
    "           [3, 1, 3, 4],\n",
    "           [4, 1, 5, 5],\n",
    "           [1, 7, 5, 5],\n",
    "           [1, 2, 5, 6],\n",
    "           [1, 6, 6, 6],\n",
    "           [1, 7, 7, 7]]\n",
    "y_train = [2, 2, 2, 1, 1, 1, 0, 0]\n",
    "x_train = torch.FloatTensor(x_train)\n",
    "y_train = torch.LongTensor(y_train)"
   ]
  },
  {
   "cell_type": "code",
   "execution_count": 50,
   "metadata": {},
   "outputs": [],
   "source": [
    "model = SoftmaxFlassifierModel()\n",
    "optimizer = optim.SGD(model.parameters(), lr = 0.1)\n",
    "nb_epochs = 1000"
   ]
  },
  {
   "cell_type": "code",
   "execution_count": 51,
   "metadata": {},
   "outputs": [
    {
     "name": "stdout",
     "output_type": "stream",
     "text": [
      "epoch :  0 cost :  tensor(2.6376, grad_fn=<NllLossBackward>)\n",
      "epoch :  100 cost :  tensor(0.6479, grad_fn=<NllLossBackward>)\n",
      "epoch :  200 cost :  tensor(0.5646, grad_fn=<NllLossBackward>)\n",
      "epoch :  300 cost :  tensor(0.5110, grad_fn=<NllLossBackward>)\n",
      "epoch :  400 cost :  tensor(0.4672, grad_fn=<NllLossBackward>)\n",
      "epoch :  500 cost :  tensor(0.4283, grad_fn=<NllLossBackward>)\n",
      "epoch :  600 cost :  tensor(0.3919, grad_fn=<NllLossBackward>)\n",
      "epoch :  700 cost :  tensor(0.3567, grad_fn=<NllLossBackward>)\n",
      "epoch :  800 cost :  tensor(0.3216, grad_fn=<NllLossBackward>)\n",
      "epoch :  900 cost :  tensor(0.2856, grad_fn=<NllLossBackward>)\n",
      "epoch :  1000 cost :  tensor(0.2508, grad_fn=<NllLossBackward>)\n"
     ]
    }
   ],
   "source": [
    "for epoch in range(nb_epochs + 1):\n",
    "    prediction = model(x_train)\n",
    "    cost = F.cross_entropy(prediction, y_train)\n",
    "    optimizer.zero_grad()\n",
    "    cost.backward()\n",
    "    optimizer.step()\n",
    "    \n",
    "    if epoch % 100 == 0:\n",
    "        print(\"epoch : \", epoch, \"cost : \", cost)\n",
    "    "
   ]
  },
  {
   "cell_type": "code",
   "execution_count": null,
   "metadata": {},
   "outputs": [],
   "source": []
  }
 ],
 "metadata": {
  "kernelspec": {
   "display_name": "Python 3",
   "language": "python",
   "name": "python3"
  },
  "language_info": {
   "codemirror_mode": {
    "name": "ipython",
    "version": 3
   },
   "file_extension": ".py",
   "mimetype": "text/x-python",
   "name": "python",
   "nbconvert_exporter": "python",
   "pygments_lexer": "ipython3",
   "version": "3.7.6"
  }
 },
 "nbformat": 4,
 "nbformat_minor": 4
}
