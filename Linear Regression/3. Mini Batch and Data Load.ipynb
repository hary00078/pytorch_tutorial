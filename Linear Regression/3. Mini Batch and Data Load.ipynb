{
 "cells": [
  {
   "cell_type": "markdown",
   "metadata": {},
   "source": [
    "# Mini Batch and Data Load"
   ]
  },
  {
   "cell_type": "code",
   "execution_count": 29,
   "metadata": {},
   "outputs": [],
   "source": [
    "import torch\n",
    "import torch.nn as nn\n",
    "import torch.nn.functional as F"
   ]
  },
  {
   "cell_type": "code",
   "execution_count": 30,
   "metadata": {},
   "outputs": [],
   "source": [
    "from torch.utils.data import TensorDataset\n",
    "from torch.utils.data import DataLoader"
   ]
  },
  {
   "cell_type": "code",
   "execution_count": 31,
   "metadata": {},
   "outputs": [],
   "source": [
    "x_train = torch.FloatTensor([[73, 80, 75], [93, 88, 93], [89, 91, 90], [96, 98, 100], [73, 66, 70]])\n",
    "y_train = torch.FloatTensor([[152], [185], [180], [196], [142]])"
   ]
  },
  {
   "cell_type": "code",
   "execution_count": 32,
   "metadata": {},
   "outputs": [],
   "source": [
    "dataset = TensorDataset(x_train, y_train)"
   ]
  },
  {
   "cell_type": "code",
   "execution_count": 33,
   "metadata": {},
   "outputs": [],
   "source": [
    "dataloader = DataLoader(dataset, batch_size=2, shuffle=True)"
   ]
  },
  {
   "cell_type": "code",
   "execution_count": 34,
   "metadata": {},
   "outputs": [],
   "source": [
    "class MultivarienLinearRegressionModel(nn.Module):\n",
    "    def __init__(self):\n",
    "        super().__init__()\n",
    "        self.linear = nn.Linear(3, 1)\n",
    "    def forward(self, x):\n",
    "        return self.linear(x)"
   ]
  },
  {
   "cell_type": "code",
   "execution_count": 35,
   "metadata": {},
   "outputs": [],
   "source": [
    "model = MultivarienLinearRegressionModel()\n",
    "optimizer = torch.optim.SGD(model.parameters(), lr=1e-5)\n",
    "nb_epochs = 100"
   ]
  },
  {
   "cell_type": "code",
   "execution_count": 36,
   "metadata": {},
   "outputs": [
    {
     "name": "stdout",
     "output_type": "stream",
     "text": [
      "epoch :  0 cost :  tensor(507.1884, grad_fn=<MseLossBackward>)\n",
      "epoch :  1 cost :  tensor(24.2662, grad_fn=<MseLossBackward>)\n",
      "epoch :  2 cost :  tensor(9.8784, grad_fn=<MseLossBackward>)\n",
      "epoch :  3 cost :  tensor(4.3627, grad_fn=<MseLossBackward>)\n",
      "epoch :  4 cost :  tensor(2.6451, grad_fn=<MseLossBackward>)\n",
      "epoch :  5 cost :  tensor(1.3878, grad_fn=<MseLossBackward>)\n",
      "epoch :  6 cost :  tensor(4.3759, grad_fn=<MseLossBackward>)\n",
      "epoch :  7 cost :  tensor(3.6508, grad_fn=<MseLossBackward>)\n",
      "epoch :  8 cost :  tensor(2.7317, grad_fn=<MseLossBackward>)\n",
      "epoch :  9 cost :  tensor(2.1411, grad_fn=<MseLossBackward>)\n",
      "epoch :  10 cost :  tensor(1.9072, grad_fn=<MseLossBackward>)\n",
      "epoch :  11 cost :  tensor(0.1709, grad_fn=<MseLossBackward>)\n",
      "epoch :  12 cost :  tensor(2.7035, grad_fn=<MseLossBackward>)\n",
      "epoch :  13 cost :  tensor(4.0373, grad_fn=<MseLossBackward>)\n",
      "epoch :  14 cost :  tensor(3.4633, grad_fn=<MseLossBackward>)\n",
      "epoch :  15 cost :  tensor(2.9918, grad_fn=<MseLossBackward>)\n",
      "epoch :  16 cost :  tensor(2.6577, grad_fn=<MseLossBackward>)\n",
      "epoch :  17 cost :  tensor(0.8237, grad_fn=<MseLossBackward>)\n",
      "epoch :  18 cost :  tensor(1.5067, grad_fn=<MseLossBackward>)\n",
      "epoch :  19 cost :  tensor(1.8414, grad_fn=<MseLossBackward>)\n",
      "epoch :  20 cost :  tensor(4.1965, grad_fn=<MseLossBackward>)\n"
     ]
    }
   ],
   "source": [
    "for epoch in range(nb_epochs + 1):\n",
    "    for batch_idx, samples in enumerate(dataloader):\n",
    "        x_training, y_training = samples\n",
    "        prediction = model(x_training)\n",
    "        cost = F.mse_loss(prediction, y_training)\n",
    "        optimizer.zero_grad()\n",
    "        cost.backward()\n",
    "        optimizer.step()\n",
    "    if epoch print(\"epoch : \", epoch, \"cost : \", cost)"
   ]
  },
  {
   "cell_type": "code",
   "execution_count": 37,
   "metadata": {},
   "outputs": [
    {
     "name": "stdout",
     "output_type": "stream",
     "text": [
      "tensor([[153.8016],\n",
      "        [183.9775],\n",
      "        [181.8399],\n",
      "        [197.0927],\n",
      "        [140.7990]], grad_fn=<AddmmBackward>)\n"
     ]
    }
   ],
   "source": [
    "print(model(x_train))"
   ]
  },
  {
   "cell_type": "code",
   "execution_count": 38,
   "metadata": {},
   "outputs": [
    {
     "name": "stdout",
     "output_type": "stream",
     "text": [
      "tensor([[152.],\n",
      "        [185.],\n",
      "        [180.],\n",
      "        [196.],\n",
      "        [142.]])\n"
     ]
    }
   ],
   "source": [
    "print(y_train)"
   ]
  },
  {
   "cell_type": "code",
   "execution_count": null,
   "metadata": {},
   "outputs": [],
   "source": []
  }
 ],
 "metadata": {
  "kernelspec": {
   "display_name": "Python 3",
   "language": "python",
   "name": "python3"
  },
  "language_info": {
   "codemirror_mode": {
    "name": "ipython",
    "version": 3
   },
   "file_extension": ".py",
   "mimetype": "text/x-python",
   "name": "python",
   "nbconvert_exporter": "python",
   "pygments_lexer": "ipython3",
   "version": "3.7.3"
  }
 },
 "nbformat": 4,
 "nbformat_minor": 2
}
