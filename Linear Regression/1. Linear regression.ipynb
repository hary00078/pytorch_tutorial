{
 "cells": [
  {
   "cell_type": "markdown",
   "metadata": {},
   "source": [
    "# Linear regression"
   ]
  },
  {
   "cell_type": "code",
   "execution_count": 3,
   "metadata": {},
   "outputs": [],
   "source": [
    "import torch "
   ]
  },
  {
   "cell_type": "code",
   "execution_count": 4,
   "metadata": {},
   "outputs": [],
   "source": [
    "#데이터set 생성\n",
    "x_train = torch.FloatTensor([[1], [2], [3]])\n",
    "y_train = torch.FloatTensor([[2], [4], [6]])"
   ]
  },
  {
   "cell_type": "code",
   "execution_count": 5,
   "metadata": {},
   "outputs": [],
   "source": [
    "#학습시킬 변수 생성\n",
    "w = torch.zeros(1, requires_grad = True)\n",
    "b = torch.zeros(1, requires_grad = True)"
   ]
  },
  {
   "cell_type": "code",
   "execution_count": 6,
   "metadata": {},
   "outputs": [],
   "source": [
    "optimizer = torch.optim.SGD([w, b], lr = 0.01)# w와 b를 학습시킬 것이며, learning rate = 0.1 이다\n",
    "nb_epochs = 1000 #1000번 학습할 것이다 "
   ]
  },
  {
   "cell_type": "code",
   "execution_count": 11,
   "metadata": {},
   "outputs": [
    {
     "name": "stdout",
     "output_type": "stream",
     "text": [
      "epoch :  0 cost :  tensor(5.1377e-06, grad_fn=<MeanBackward0>)\n",
      "epoch :  100 cost :  tensor(3.1754e-06, grad_fn=<MeanBackward0>)\n",
      "epoch :  200 cost :  tensor(1.9622e-06, grad_fn=<MeanBackward0>)\n",
      "epoch :  300 cost :  tensor(1.2130e-06, grad_fn=<MeanBackward0>)\n",
      "epoch :  400 cost :  tensor(7.4966e-07, grad_fn=<MeanBackward0>)\n",
      "epoch :  500 cost :  tensor(4.6349e-07, grad_fn=<MeanBackward0>)\n",
      "epoch :  600 cost :  tensor(2.8643e-07, grad_fn=<MeanBackward0>)\n",
      "epoch :  700 cost :  tensor(1.7715e-07, grad_fn=<MeanBackward0>)\n",
      "epoch :  800 cost :  tensor(1.0964e-07, grad_fn=<MeanBackward0>)\n",
      "epoch :  900 cost :  tensor(6.7919e-08, grad_fn=<MeanBackward0>)\n",
      "epoch :  1000 cost :  tensor(4.1998e-08, grad_fn=<MeanBackward0>)\n"
     ]
    }
   ],
   "source": [
    "for epoch in range(nb_epochs + 1):\n",
    "    hypothesis = x_train * w + b\n",
    "    cost = torch.mean((hypothesis - y_train) ** 2)\n",
    "    optimizer.zero_grad()\n",
    "    cost.backward()\n",
    "    optimizer.step()\n",
    "    if epoch % 100 == 0:\n",
    "        print(\"epoch : \", epoch, \"cost : \", cost)"
   ]
  },
  {
   "cell_type": "code",
   "execution_count": 12,
   "metadata": {},
   "outputs": [
    {
     "name": "stdout",
     "output_type": "stream",
     "text": [
      "tensor([[1.9998],\n",
      "        [3.9995],\n",
      "        [5.9993]], grad_fn=<MulBackward0>)\n"
     ]
    }
   ],
   "source": [
    "print(x_train * w)"
   ]
  },
  {
   "cell_type": "code",
   "execution_count": null,
   "metadata": {},
   "outputs": [],
   "source": []
  }
 ],
 "metadata": {
  "kernelspec": {
   "display_name": "Python 3",
   "language": "python",
   "name": "python3"
  },
  "language_info": {
   "codemirror_mode": {
    "name": "ipython",
    "version": 3
   },
   "file_extension": ".py",
   "mimetype": "text/x-python",
   "name": "python",
   "nbconvert_exporter": "python",
   "pygments_lexer": "ipython3",
   "version": "3.7.3"
  }
 },
 "nbformat": 4,
 "nbformat_minor": 2
}
